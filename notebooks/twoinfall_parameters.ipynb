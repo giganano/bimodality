{
 "cells": [
  {
   "cell_type": "code",
   "execution_count": 1,
   "id": "9541ffc1",
   "metadata": {},
   "outputs": [
    {
     "name": "stdout",
     "output_type": "stream",
     "text": [
      "sys.version_info(major=3, minor=10, micro=2, releaselevel='final', serial=0)\n"
     ]
    },
    {
     "name": "stderr",
     "output_type": "stream",
     "text": [
      "/Users/astrobeard/Work/Research/VICErepos/VICE/vice/__init__.py:141: UserWarning: Using un-released version of VICE\n",
      "  warnings.warn(\"Using un-released version of VICE\", UserWarning)\n"
     ]
    }
   ],
   "source": [
    "import matplotlib.pyplot as plt\n",
    "from plots.mpltoolkit import named_colors, fancy_legend, mpl_loc, load_mpl_presets\n",
    "import numpy as np\n",
    "import math as m\n",
    "import vice\n",
    "import sys\n",
    "load_mpl_presets()\n",
    "print(sys.version_info)"
   ]
  },
  {
   "cell_type": "markdown",
   "id": "ac68a02d",
   "metadata": {},
   "source": [
    "# Determining the ratio of the heights of the two infall episodes based on the ratio of present-day thin-disk to thick-disk stars\n",
    "\n",
    "In short, assert that the ratio of the integrals over the two infall histories should give $\\Sigma_T / \\Sigma_t$ consistent with the Milky Way disk (e.g. 0.27 as reported by [Bland-Hawthorn & Gerhard 2016](https://ui.adsabs.harvard.edu/abs/2016ARA%26A..54..529B/abstract)). The two-infall model can be characterized according to the following expression:\n",
    "\n",
    "$$\\dot{M}_\\text{in} = A e^{-t / \\tau_1} + H(t - t_2)B e^{-(t - t_2) / \\tau_2}$$\n",
    "\n",
    "where $A$ and $B$ are the initial heights of the two infall episodes, $\\tau_1$ and $\\tau_2$ are their e-folding\n",
    "timescales, $t_2$ is the time of onset of the second infall episode, and $H$ is the Heaviside step function:\n",
    "\n",
    "$$\n",
    "H(x) \\equiv \\begin{cases}\n",
    "1 & (x \\geq 0)\n",
    "\\\\\n",
    "0 & (x < 0)\n",
    "\\end{cases}\n",
    "$$\n",
    "\n",
    "This assertion boils down to the following:\n",
    "\n",
    "$$\n",
    "\\begin{align}\n",
    "\\frac{\\Sigma_T}{\\Sigma_t} &= \\frac{\\int_0^T Ae^{-t/\\tau_1} dt}{\\int_{t_2}^T Be^{-(t - t_2)/\\tau_2} dt}\n",
    "\\\\\n",
    "&= \\frac{-A\\tau_1e^{-t / \\tau_1}\\Big|_0^T}{-B\\tau_2e^{-(t - t_2)/\\tau_2}\\Big|_{t_2}^T}\n",
    "\\\\\n",
    "&= \\frac{A\\tau_1(1 - e^{-T/\\tau_1})}{B\\tau_2(1 - e^{-(T - t_2)/\\tau_2})}\n",
    "\\end{align}\n",
    "$$\n",
    "\n",
    "And therefore:\n",
    "\n",
    "$$\n",
    "\\frac{B}{A} = \\left(\\frac{\\Sigma_t}{\\Sigma_T}\\right)\n",
    "\\frac{\\tau_1(1 - e^{-T/\\tau_1})}{\\tau_2(1 - e^{-(T - t_2)/\\tau_2})}\n",
    "$$\n",
    "\n",
    "The ratio of thin-disk to thick-disk stars at a given radius can be derived from their scale radii and ratio at $R = 0$ as reported by [Bland-Hawthorn & Gerhard (2016)](https://ui.adsabs.harvard.edu/abs/2016ARA%26A..54..529B/abstract). They report $R_T = 2.0$ kpc, $R_t = 2.5$ kpc, and $\\Sigma_T(R = 0) / \\Sigma_t(R = 0) = 0.27$.\n",
    "\n",
    "$$\n",
    "\\begin{align}\n",
    "\\frac{\\Sigma_t}{\\Sigma_T} &= \\frac{\\Sigma_t(R = 0) e^{-R/R_t}}{\\Sigma_T(R = 0) e^{-R/R_T}}\n",
    "\\\\\n",
    "&= \\frac{1}{0.27}\\exp\\left\\{\\frac{R}{R_T} - \\frac{R}{R_t}\\right\\}\n",
    "\\\\\n",
    "&= \\frac{1}{0.27}\\exp\\left\\{R\\left(\\frac{1}{R_T} - \\frac{1}{R_t}\\right)\\right\\}\n",
    "\\end{align}\n",
    "$$\n",
    "\n",
    "And the final expression for the ratio of normalizations of the two infall episodes $B / A$:\n",
    "\n",
    "$$\n",
    "\\frac{B}{A} = \\frac{1}{0.27}\\exp\\left\\{R\\left(\\frac{1}{R_T} - \\frac{1}{R_t}\\right)\\right\\}\n",
    "\\frac{\\tau_1(1 - e^{-T/\\tau_1})}{\\tau_2(1 - e^{-(T - t_2)/\\tau_2})}\n",
    "$$\n",
    "\n",
    "This ratio as a function of galactocentric radius for the current choice of parameters:"
   ]
  },
  {
   "cell_type": "code",
   "execution_count": 2,
   "id": "63b5d3f7",
   "metadata": {},
   "outputs": [
    {
     "data": {
      "image/png": "[encoded data removed]",
      "text/plain": [
       "<Figure size 360x360 with 1 Axes>"
      ]
     },
     "metadata": {},
     "output_type": "display_data"
    }
   ],
   "source": [
    "sys.path.append(\"..\")\n",
    "from src.simulations.models.twoinfall import twoinfall\n",
    "fig = plt.figure()\n",
    "ax = fig.add_subplot(111)\n",
    "ax.set_xlabel(r\"$R_\\text{gal}$ [kpc]\")\n",
    "ax.set_ylabel(r\"$\\dot{\\Sigma}_{\\text{in},2} / \\dot{\\Sigma}_{\\text{in},1}$\")\n",
    "xvals = np.linspace(0, 15.5, 1000)\n",
    "twoinfall_ = twoinfall(0.)\n",
    "yvals = len(xvals) * [0.]\n",
    "for i in range(len(xvals)):\n",
    "    twoinfall_.radius = xvals[i]\n",
    "    yvals[i] = twoinfall_.amp_ratio(xvals[i])\n",
    "ax.plot(xvals, yvals, c = named_colors()[\"black\"])\n",
    "plt.tight_layout()\n",
    "plt.show()"
   ]
  }
 ],
 "metadata": {
  "kernelspec": {
   "display_name": "Python 3 (ipykernel)",
   "language": "python",
   "name": "python3"
  },
  "language_info": {
   "codemirror_mode": {
    "name": "ipython",
    "version": 3
   },
   "file_extension": ".py",
   "mimetype": "text/x-python",
   "name": "python",
   "nbconvert_exporter": "python",
   "pygments_lexer": "ipython3",
   "version": "3.10.2"
  }
 },
 "nbformat": 4,
 "nbformat_minor": 5
}
